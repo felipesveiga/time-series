{
 "cells": [
  {
   "cell_type": "markdown",
   "id": "f03dccaa-50bf-4da5-843f-afe8eda444f3",
   "metadata": {},
   "source": [
    "<h1 style='font-size:40px'> \n",
    "    <a href='https://www.statlect.com/fundamentals-of-probability/independent-events'>\n",
    "        Independent Events\n",
    "    </a>\n",
    "</h1>\n",
    "<div> \n",
    "    <ul style='font-size:20px'> \n",
    "        <li> \n",
    "            Entendemos como eventos independentes aqueles em que a ocorrência de um não afeta a probabilidade e acontecimento de outro.\n",
    "        </li>\n",
    "    </ul>\n",
    "</div>"
   ]
  },
  {
   "cell_type": "markdown",
   "id": "10fc79da-3d7c-46ff-8eac-63ce1a4be266",
   "metadata": {},
   "source": [
    "<figure>\n",
    "    <center style='font-size:20px;margin-top:20px'> \n",
    "            $\\displaystyle P(E\\cap{F})=P(E)P(F)$\n",
    "            <figcaption style='font-size:15px'>\n",
    "                Definição formal de independência entre dois eventos.\n",
    "            </figcaption>\n",
    "    </center>\n",
    "</figure>"
   ]
  },
  {
   "cell_type": "markdown",
   "id": "4ff9ddec-0866-4409-8e42-a9e3ae3173a4",
   "metadata": {},
   "source": [
    "<h2 style='font-size:30px'> \n",
    "    Mutually Independent Events\n",
    "</h2>\n",
    "<div> \n",
    "    <ul style='font-size:20px'> \n",
    "        <li> \n",
    "            Quando analisamos uma quantidade $n$ de eventos, só poderemos considerá-los mutualmente independentes, caso para cada coleção $k$ desses eventos:\n",
    "        </li>\n",
    "    </ul>\n",
    " </div>"
   ]
  },
  {
   "cell_type": "markdown",
   "id": "f13b54b5-fde5-4be4-9463-3cc9c7701977",
   "metadata": {},
   "source": [
    "<figure>\n",
    "    <center style='font-size:20px;margin-top:20px'> \n",
    "            $\\displaystyle P\\left(\\bigcap_{j=1}^{k}{E_{i_{j}}}\\right)=\\prod_{j=1}^{k}P(E_{i_{j}})$\n",
    "            <figcaption style='font-size:15px'>\n",
    "            </figcaption>\n",
    "    </center>\n",
    "</figure>"
   ]
  }
 ],
 "metadata": {
  "kernelspec": {
   "display_name": "Python 3 (ipykernel)",
   "language": "python",
   "name": "python3"
  },
  "language_info": {
   "codemirror_mode": {
    "name": "ipython",
    "version": 3
   },
   "file_extension": ".py",
   "mimetype": "text/x-python",
   "name": "python",
   "nbconvert_exporter": "python",
   "pygments_lexer": "ipython3",
   "version": "3.10.12"
  }
 },
 "nbformat": 4,
 "nbformat_minor": 5
}
