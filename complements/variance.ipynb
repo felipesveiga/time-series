{
 "cells": [
  {
   "cell_type": "markdown",
   "id": "7c1c9898-d94c-4f59-a121-42f8bf9b04ae",
   "metadata": {},
   "source": [
    "<h1 style='font-size:40px'> Variance</h1>"
   ]
  }
 ],
 "metadata": {
  "kernelspec": {
   "display_name": "Python 3 (ipykernel)",
   "language": "python",
   "name": "python3"
  },
  "language_info": {
   "codemirror_mode": {
    "name": "ipython",
    "version": 3
   },
   "file_extension": ".py",
   "mimetype": "text/x-python",
   "name": "python",
   "nbconvert_exporter": "python",
   "pygments_lexer": "ipython3",
   "version": "3.10.12"
  }
 },
 "nbformat": 4,
 "nbformat_minor": 5
}
