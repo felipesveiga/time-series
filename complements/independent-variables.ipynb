{
 "cells": [
  {
   "cell_type": "markdown",
   "id": "a9ad7c82-cb37-4a4c-8b5c-8215a4a1f86e",
   "metadata": {},
   "source": [
    "<h1 style='font-size:40px'> \n",
    "    <a href='https://www.statlect.com/fundamentals-of-probability/independent-random-variables#indepcov'>\n",
    "        Independent Random Variables\n",
    "    </a>\n",
    "</h1>\n",
    "<div> \n",
    "    <ul style='font-size:20px'> \n",
    "        <li> \n",
    "            Consideramos um conjunto de variáveis aleatórias como independentes, quando a informação do valor de uma delas não impactar a nossa avaliação sobre a distribuição probabilística  de outra.\n",
    "        </li>\n",
    "        <li>\n",
    "            Formalmente, a independência entre duas variáveis fará com que a distribuição conjunta entre elas possa ser expressa como o produto de suas distribuições marginais.\n",
    "        </li>\n",
    "    </ul>\n",
    "</div>"
   ]
  },
  {
   "cell_type": "markdown",
   "id": "b0ba637c-5f66-4731-85d0-df7572c3f344",
   "metadata": {},
   "source": [
    "<figure>\n",
    "    <center style='font-size:20px;margin-top:20px'> \n",
    "            $\\displaystyle P_{XY}(x,y)=P_{X}(x)P_{Y}(y),\\forall{x,y}\\in{\\mathbb{R}}$\n",
    "            <figcaption style='font-size:15px'>\n",
    "                Definição formal de independência entre duas variáveis.\n",
    "            </figcaption>\n",
    "    </center>\n",
    "</figure>"
   ]
  },
  {
   "cell_type": "markdown",
   "id": "f5662219-8857-4fae-8c69-be7636985540",
   "metadata": {},
   "source": [
    "<h2 style='font-size:30px'> \n",
    "    Mutually Independent Random Variables\n",
    "</h2>\n",
    "<div> \n",
    "    <ul style='font-size:20px'> \n",
    "        <li> \n",
    "            Definimos que $n$ variáveis são independentes, caso todos os eventos relacionados a elas sejam <i>mutualmente independentes</i>. \n",
    "        </li>\n",
    "        <li>\n",
    "            Isso significa que a probabilidade de um conjunto de $k$ eventos dessas variáveis ocorrer deverá ser o produto das probabilidades marginais de cada acontecimento.\n",
    "        </li>\n",
    "    </ul>\n",
    " </div>"
   ]
  },
  {
   "cell_type": "markdown",
   "id": "f49c2484-8d67-4c79-bca7-12e354c14445",
   "metadata": {},
   "source": [
    "<figure>\n",
    "    <center style='font-size:20px;margin-top:20px'> \n",
    "            $\\displaystyle P\\left(\\bigcap_{j=1}^{k}\\{X_{i_{j}}\\in A_{j}\\}\\right)=\\prod_{j=1}^{k}{P(\\{X_{i_{j}}\\in A_{j}\\})},\\text{ }\\forall{A_{1}\\ldots A_{k}\\subseteq{\\mathbb{R}}},\\text{} k\\leq{n}$\n",
    "            <figcaption style='font-size:15px'>\n",
    "                Definição formal de independência mútua entre $n$ variáveis.\n",
    "            </figcaption>\n",
    "    </center>\n",
    "</figure>"
   ]
  },
  {
   "cell_type": "markdown",
   "id": "ed054337-7c18-4b39-84a3-d9409d9199db",
   "metadata": {},
   "source": [
    "<div> \n",
    "    <ul style='font-size:20px'> \n",
    "        <li> \n",
    "            Variáveis mutualmente independentes também têm o valor esperado de seu produto $\\displaystyle Y=\\prod_{j=1}^{n}{g_{j}(X_{j})}$ igual ao produto dos valores esperados de cada variável ($g_{j}$ podendo ser uma função qualquer).\n",
    "        </li>\n",
    "    </ul>\n",
    " </div>"
   ]
  },
  {
   "cell_type": "markdown",
   "id": "be679102-6175-490c-9cf4-e410fdfbac9d",
   "metadata": {},
   "source": [
    "<figure>\n",
    "    <center style='font-size:20px;margin-top:20px'> \n",
    "            $\\displaystyle E\\left[\\prod_{j=1}^{n}{g_{j}(X_{j})}\\right]=\\prod_{j=1}^{n}{E[g_{j}(X_{j})]}$\n",
    "            <figcaption style='font-size:15px'>\n",
    "                Valor Esperado do produto de variáveis mutualmente independentes.\n",
    "            </figcaption>\n",
    "    </center>\n",
    "</figure>"
   ]
  },
  {
   "cell_type": "markdown",
   "id": "55d2eb99-3d2a-4b94-8996-1d4f41e81e73",
   "metadata": {},
   "source": [
    "<h3 style='font-size:30px;font-style:italic'> Covariância de Variáveis Mutualmente Independentes </h3>\n",
    "<div> \n",
    "    <ul style='font-size:20px'> \n",
    "        <li>\n",
    "            Sejam $X_{1}$ e $X_{2}$ duas variáveis independentes, podemos dizer que $\\operatorname{Cov}[X_{1},X_{2}]=0$.\n",
    "        </li>\n",
    "    </ul>\n",
    "</div>"
   ]
  },
  {
   "cell_type": "markdown",
   "id": "a02d130d-51fa-487c-8c9a-70ad60302fc3",
   "metadata": {},
   "source": [
    "<h4 style='font-size:30px;font-style:italic;text-decoration:underline'> Prova</h4>\n",
    "<figure>\n",
    "    <center style='font-size:20px;margin-top:20px'> \n",
    "            $$\n",
    "            \\displaystyle \\begin{align*}\n",
    "                \\operatorname{Cov}[X_{1},X_{2}]&=E[X_{1}X_{2}]-E[X_{1}]E[X_{2}]\\\\\n",
    "                &=E[X_{1}]E[X_{2}]-E[X_{1}]E[X_{2}] \\text{  (Valor Esperado do produto de variáveis independentes)} \\\\\n",
    "                &=0\n",
    "            \\end{align*}\n",
    "        $$\n",
    "            <figcaption style='font-size:15px'>\n",
    "            </figcaption>\n",
    "    </center>\n",
    "</figure>"
   ]
  },
  {
   "cell_type": "markdown",
   "id": "66000cb8-76d0-462f-852d-8a264457fe11",
   "metadata": {},
   "source": [
    "<h2 style='font-size:30px'> \n",
    "    Independent Random Vectors\n",
    "</h2>\n",
    "<div> \n",
    "    <ul style='font-size:20px'> \n",
    "        <li> \n",
    "            Sejam $x\\in{\\mathbb{R}^{K_{X}}}$ e $y\\in\\mathbb{R}^{K_{Y}}$ dois vetores, poderemos afirmar que são independentes caso satisfaçam uma das seguintes condições:\n",
    "            <ol> \n",
    "                <li>\n",
    "                    $P(\\{x\\in{A}\\}\\cap{\\{y\\in{B}\\}}\\})=P(\\{x\\in{A}\\})P(\\{y\\in{B}\\}),A\\subseteq\\mathbb{R}^{K_{X}},B\\subseteq{\\mathbb{R}^{K_{Y}}}$\n",
    "                </li>\n",
    "                <li>\n",
    "                    $E[g_{1}(x)g_{2}(y)]=E[g_{1}(x)]E[g_{2}(y)]$\n",
    "                </li>\n",
    "            </ol>\n",
    "        </li>\n",
    "    </ul>\n",
    " </div>"
   ]
  },
  {
   "cell_type": "markdown",
   "id": "88b0ba59-3909-4314-8985-a02cf7182ec8",
   "metadata": {},
   "source": [
    "<h2 style='font-size:30px'> \n",
    "    Mutually Independent Random Vectors\n",
    "</h2>\n",
    "<div> \n",
    "    <ul style='font-size:20px'> \n",
    "        <li> \n",
    "            Definimos um conjunto de $n$ vetores aleatórios como independentes, caso a probabilidade da ocorrência conjunta de $k$ eventos $\\{x_{i_{j}}\\in{A_{j}}\\}$ puder se expressa como o produto das probabilidades de ocorrências individuais desses. \n",
    "        </li>\n",
    "    </ul>\n",
    " </div>"
   ]
  },
  {
   "cell_type": "markdown",
   "id": "da53865b-ccb0-4132-8126-9a615314348f",
   "metadata": {},
   "source": [
    "<figure>\n",
    "    <center style='font-size:20px;margin-top:20px'> \n",
    "            $\\displaystyle P\\left)\\right)$\n",
    "            <figcaption style='font-size:15px'>\n",
    "            </figcaption>\n",
    "    </center>\n",
    "</figure>"
   ]
  },
  {
   "cell_type": "code",
   "execution_count": 1,
   "id": "6d292378-6cd3-46c1-8c4d-5403ad56e2e6",
   "metadata": {},
   "outputs": [
    {
     "name": "stdout",
     "output_type": "stream",
     "text": [
      "[master b31fc45] Ver \"Mutually independent random vectors\"\n",
      " 1 file changed, 37 insertions(+), 13 deletions(-)\n",
      "Enumerating objects: 7, done.\n",
      "Counting objects: 100% (7/7), done.\n",
      "Delta compression using up to 24 threads\n",
      "Compressing objects: 100% (4/4), done.\n",
      "Writing objects: 100% (4/4), 923 bytes | 923.00 KiB/s, done.\n",
      "Total 4 (delta 3), reused 0 (delta 0), pack-reused 0\n"
     ]
    },
    {
     "name": "stderr",
     "output_type": "stream",
     "text": [
      "failed to send, dropping 1 traces to intake at http://localhost:8126/v0.5/traces after 3 retries\n"
     ]
    },
    {
     "name": "stdout",
     "output_type": "stream",
     "text": [
      "remote: Resolving deltas: 100% (3/3), completed with 3 local objects.\u001b[K\n",
      "To https://github.com/felipesveiga/time-series.git\n",
      "   bdb6e56..b31fc45  master -> master\n"
     ]
    }
   ],
   "source": [
    "! git add .\n",
    "! git commit -am 'Definir \"Mutually independent random vectors\"'\n",
    "! git push"
   ]
  },
  {
   "cell_type": "markdown",
   "id": "801f5bd9-4d7e-4bac-bcdf-ded85062a5f3",
   "metadata": {
    "editable": true,
    "slideshow": {
     "slide_type": ""
    },
    "tags": []
   },
   "source": [
    "<p style='color:red'> Iniciei \"Mutually independent random vectors\"; Definir \"Mutually independent random vectors\"; Aula 16 (10:50)"
   ]
  }
 ],
 "metadata": {
  "kernelspec": {
   "display_name": "Python 3 (ipykernel)",
   "language": "python",
   "name": "python3"
  },
  "language_info": {
   "codemirror_mode": {
    "name": "ipython",
    "version": 3
   },
   "file_extension": ".py",
   "mimetype": "text/x-python",
   "name": "python",
   "nbconvert_exporter": "python",
   "pygments_lexer": "ipython3",
   "version": "3.10.12"
  }
 },
 "nbformat": 4,
 "nbformat_minor": 5
}
