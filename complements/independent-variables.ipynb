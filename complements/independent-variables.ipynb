{
 "cells": [
  {
   "cell_type": "markdown",
   "id": "a9ad7c82-cb37-4a4c-8b5c-8215a4a1f86e",
   "metadata": {},
   "source": [
    "<h1 style='font-size:40px'> \n",
    "    <a href='https://www.statlect.com/fundamentals-of-probability/independent-random-variables#indepcov'>\n",
    "        Independent Random Variables\n",
    "    </a>\n",
    "</h1>\n",
    "<div> \n",
    "    <ul style='font-size:20px'> \n",
    "        <li> \n",
    "            Consideramos um conjunto de variáveis aleatórias como independentes, quando a informação do valor de uma delas não impactar a nossa avaliação sobre a distribuição probabilística  de outra.\n",
    "        </li>\n",
    "        <li>\n",
    "            Formalmente, a independência entre duas variáveis fará com que a distribuição conjunta entre elas possa ser expressa como o produto de suas distribuições marginais.\n",
    "        </li>\n",
    "    </ul>\n",
    "</div>"
   ]
  },
  {
   "cell_type": "markdown",
   "id": "b0ba637c-5f66-4731-85d0-df7572c3f344",
   "metadata": {},
   "source": [
    "<figure>\n",
    "    <center style='font-size:20px;margin-top:20px'> \n",
    "            $\\displaystyle P_{XY}(x,y)=P_{X}(x)P_{Y}(y),\\forall{x,y}\\in{\\mathbb{R}}$\n",
    "            <figcaption style='font-size:15px'>\n",
    "                Definição formal de independência entre duas variáveis.\n",
    "            </figcaption>\n",
    "    </center>\n",
    "</figure>"
   ]
  },
  {
   "cell_type": "code",
   "execution_count": 1,
   "id": "6d292378-6cd3-46c1-8c4d-5403ad56e2e6",
   "metadata": {},
   "outputs": [
    {
     "name": "stdout",
     "output_type": "stream",
     "text": [
      "[master 1f27219] Continuar de \"The following example illustrates how this criterion can be used\"\n",
      " 2 files changed, 119 insertions(+), 57 deletions(-)\n",
      " create mode 100644 complements/independent-variables.ipynb\n"
     ]
    },
    {
     "name": "stderr",
     "output_type": "stream",
     "text": [
      "failed to send, dropping 1 traces to intake at http://localhost:8126/v0.5/traces after 3 retries\n"
     ]
    },
    {
     "name": "stdout",
     "output_type": "stream",
     "text": [
      "Enumerating objects: 8, done.\n",
      "Counting objects: 100% (8/8), done.\n",
      "Delta compression using up to 24 threads\n",
      "Compressing objects: 100% (5/5), done.\n",
      "Writing objects: 100% (5/5), 1.19 KiB | 1.19 MiB/s, done.\n",
      "Total 5 (delta 3), reused 0 (delta 0), pack-reused 0\n",
      "remote: Resolving deltas: 100% (3/3), completed with 2 local objects.\u001b[K\n",
      "To https://github.com/felipesveiga/time-series.git\n",
      "   529603f..1f27219  master -> master\n"
     ]
    }
   ],
   "source": [
    "! git add .\n",
    "! git commit -am 'Continuar de \"Independence between continuous random variables\"'\n",
    "! git push"
   ]
  },
  {
   "cell_type": "markdown",
   "id": "801f5bd9-4d7e-4bac-bcdf-ded85062a5f3",
   "metadata": {
    "editable": true,
    "slideshow": {
     "slide_type": ""
    },
    "tags": []
   },
   "source": [
    "<p style='color:red'> Iniciei variáveis independentes; Continuar de \"Independence between continuous random variables\"; Aula 16 (10:50)"
   ]
  }
 ],
 "metadata": {
  "kernelspec": {
   "display_name": "Python 3 (ipykernel)",
   "language": "python",
   "name": "python3"
  },
  "language_info": {
   "codemirror_mode": {
    "name": "ipython",
    "version": 3
   },
   "file_extension": ".py",
   "mimetype": "text/x-python",
   "name": "python",
   "nbconvert_exporter": "python",
   "pygments_lexer": "ipython3",
   "version": "3.10.12"
  }
 },
 "nbformat": 4,
 "nbformat_minor": 5
}
