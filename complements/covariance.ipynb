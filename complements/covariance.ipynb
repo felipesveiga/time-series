{
 "cells": [
  {
   "cell_type": "markdown",
   "id": "7c1c9898-d94c-4f59-a121-42f8bf9b04ae",
   "metadata": {},
   "source": [
    "<h1 style='font-size:40px'> \n",
    "    <a href='https://www.statlect.com/fundamentals-of-probability/covariance'>\n",
    "        Covariance\n",
    "    </a>\n",
    "</h1>\n",
    "<div> \n",
    "    <ul style='font-size:20px'> \n",
    "        <li> \n",
    "            A covariância é uma medida que mensura o quanto duas variáveis aleatórias variam em torno de suas médias num mesmo sentido.\n",
    "        </li>\n",
    "    </ul>\n",
    "</div>"
   ]
  },
  {
   "cell_type": "markdown",
   "id": "fde7069d-1395-4e68-b684-5f9c2011d52d",
   "metadata": {},
   "source": [
    "<figure>\n",
    "    <center style='font-size:20px;margin-top:20px'> \n",
    "            $$\\displaystyle \\begin{align*}\n",
    "                \\operatorname{Cov{[X,Y]}}&=E[(X-E[X])(Y-E[Y])]\\\\\n",
    "                &=E[XY]-E[X]E[Y]\n",
    "                \\end{align*}\n",
    "        $$\n",
    "            <figcaption style='font-size:15px'>\n",
    "                Duas definições válidas de covariância.\n",
    "            </figcaption>\n",
    "    </center>\n",
    "</figure>"
   ]
  },
  {
   "cell_type": "markdown",
   "id": "54fcc900-466f-4438-8c36-be9f93af59e0",
   "metadata": {},
   "source": [
    "<h3 style='font-size:30px;font-style:italic'> Interpretando a Covariância</h3>\n",
    "<div> \n",
    "    <ul style='font-size:20px'> \n",
    "        <li>\n",
    "            A formulação da covariância busca punir casos em que as variáveis se desviam de suas médias em sinais opostos. Já instâncias que se desviam em mesmo sentido recebem um produto positivo.\n",
    "        </li>\n",
    "        <li>\n",
    "            Por exemplo, se $x_{i}$ se desviar em $2$ unidades de $\\overline{X}$ e $y_{i}$ $-5$ unidades de $\\overline{Y}$, o produto dos desvios ficará $2\\times{-5}=-10$. \n",
    "        </li>\n",
    "        <li>\n",
    "            Portanto, covariâncias positivas indicam que as variáveis tendem a se desviar em mesmo sentido, enquanto negativas sinalizam o caso contrário.\n",
    "        </li>\n",
    "    </ul>\n",
    "</div>"
   ]
  },
  {
   "cell_type": "markdown",
   "id": "44aba7a1-a15f-4aa4-8d36-36fed091b66b",
   "metadata": {},
   "source": [
    "<h3 style='font-size:30px;font-style:italic'> Bilinearidade da Covariância</h3>\n",
    "<div> \n",
    "    <ul style='font-size:20px'> \n",
    "        <li>\n",
    "            Sejam $X_{1}$, $X_{2}$ e $Y$ três variáveis aleatórias, podemos afirmar que:\n",
    "        </li>\n",
    "    </ul>\n",
    "</div>"
   ]
  },
  {
   "cell_type": "markdown",
   "id": "1ba605ad-a6f7-49af-991b-017a62297131",
   "metadata": {},
   "source": [
    "<figure>\n",
    "    <center style='font-size:20px;margin-top:20px'> \n",
    "            $\\displaystyle \\operatorname{Cov}[a_{1}X_{1}+a_{2}X_{2},Y]=a_{1}\\operatorname{Cov}[X_{1},Y]+a_{2}\\operatorname{Cov}[X_{2},Y]$\n",
    "            <figcaption style='font-size:15px'>\n",
    "            </figcaption>\n",
    "    </center>\n",
    "</figure>"
   ]
  },
  {
   "cell_type": "markdown",
   "id": "c6897a4c-b94e-4feb-b401-5b527ede29a0",
   "metadata": {},
   "source": [
    "<h4 style='font-size:30px;font-style:italic;text-decoration:underline'> Prova</h4>\n",
    "<figure>\n",
    "    <center style='font-size:20px;margin-top:20px'> \n",
    "            $$\n",
    "            \\displaystyle \\begin{align*}\n",
    "            \\operatorname{Cov}[a_{1}X_{1}+a_{2}X_{2},Y]&=E[(a_{1}X_{1}+a_{2}X_{2}-E[a_{1}X_{1}+a_{2}X_{2}])(Y-E[Y])]\\\\\n",
    "        &=E[(a_{1}X_{1}-E[a_{1}X_{1}])(Y-E[Y])+(a_{2}X_{2}-E[a_{2}X_{2}])(Y-E[Y])]\\\\\n",
    "        &=a_{1}E[(X_{1}-E[X_{1}])(Y-E[Y])]+a_{2}E[(X_{2}-E[X_{2}])(Y-E[Y])]\\\\\n",
    "        &=a_{1}\\operatorname{Cov}[X_{1},Y]+a_{2}\\operatorname{Cov}[X_{2},Y]\\\\\n",
    "        &\\text{Q.E.D}\n",
    "            \\end{align*}\n",
    "        $$\n",
    "            <figcaption style='font-size:15px'>\n",
    "            </figcaption>\n",
    "    </center>\n",
    "</figure>"
   ]
  },
  {
   "cell_type": "markdown",
   "id": "d61b15a1-eb06-47a8-9593-c7ff617d993b",
   "metadata": {},
   "source": [
    "<h3 style='font-size:30px;font-style:italic'> Multilinearidade da Covariância</h3>\n",
    "<div> \n",
    "    <ul style='font-size:20px'> \n",
    "        <li>\n",
    "            Sejam $X_{1},\\ldots,X_{n}$ e $Y$ variáveis aleatórias, podemos afirmar que:\n",
    "        </li>\n",
    "    </ul>\n",
    "</div>"
   ]
  },
  {
   "cell_type": "markdown",
   "id": "5639611b-c69a-4ec8-baac-5a698add99cd",
   "metadata": {},
   "source": [
    "<figure>\n",
    "    <center style='font-size:20px;margin-top:20px'> \n",
    "            $\\displaystyle \\operatorname{Cov}\\left[\\sum_{i=1}^{n}{a_{i}X_{i}},Y\\right]=\\sum_{i=1}^{n}{a_{i}\\operatorname{Cov}[X_{i},y]}$\n",
    "            <figcaption style='font-size:15px'>\n",
    "            </figcaption>\n",
    "    </center>\n",
    "</figure>"
   ]
  },
  {
   "cell_type": "markdown",
   "id": "6c9f3ef4-18b4-46e9-8b29-8a2d8eded67c",
   "metadata": {},
   "source": [
    "<h4 style='font-size:30px;font-style:italic;text-decoration:underline'> Prova</h4>\n",
    "<figure>\n",
    "    <center style='font-size:20px;margin-top:20px'> \n",
    "            $$\n",
    "            \\displaystyle \\begin{align*}\n",
    "            \\end{align*}\n",
    "        $$\n",
    "            <figcaption style='font-size:15px'>\n",
    "            </figcaption>\n",
    "    </center>\n",
    "</figure>"
   ]
  },
  {
   "cell_type": "code",
   "execution_count": 2,
   "id": "32aed866-3047-4a8e-b822-7154b8ec7178",
   "metadata": {},
   "outputs": [
    {
     "name": "stdout",
     "output_type": "stream",
     "text": [
      "[master 4002f9b] Continuar anotações sobre \"Bilinearidade da Covariância\"\n",
      " 1 file changed, 80 insertions(+), 14 deletions(-)\n"
     ]
    },
    {
     "name": "stderr",
     "output_type": "stream",
     "text": [
      "failed to send, dropping 1 traces to intake at http://localhost:8126/v0.5/traces after 3 retries\n"
     ]
    },
    {
     "name": "stdout",
     "output_type": "stream",
     "text": [
      "Enumerating objects: 7, done.\n",
      "Counting objects: 100% (7/7), done.\n",
      "Delta compression using up to 24 threads\n",
      "Compressing objects: 100% (3/3), done.\n",
      "Writing objects: 100% (4/4), 1.34 KiB | 1.34 MiB/s, done.\n",
      "Total 4 (delta 2), reused 0 (delta 0), pack-reused 0\n",
      "remote: Resolving deltas: 100% (2/2), completed with 2 local objects.\u001b[K\n",
      "To https://github.com/felipesveiga/time-series.git\n",
      "   a86622a..4002f9b  master -> master\n"
     ]
    }
   ],
   "source": [
    "! git add .\n",
    "! git commit -am 'Trocar prova de \"Bilinearidade da Covariância\" por da \"Multilinearidade da Covariência\"'\n",
    "! git push"
   ]
  },
  {
   "cell_type": "markdown",
   "id": "27673130-b9c1-4244-a954-b9068158188d",
   "metadata": {
    "editable": true,
    "slideshow": {
     "slide_type": ""
    },
    "tags": []
   },
   "source": [
    "<p style='color:red'> Expliquei \"Bilinearidade da Covariância\"; Trocar prova de \"Bilinearidade da Covariância\" por da \"Multilinearidade da Covariência\"; Provar variância da soma de variáveis aleatórias, com artigo do Statlect; Aula 16 (10:50)"
   ]
  }
 ],
 "metadata": {
  "kernelspec": {
   "display_name": "Python 3 (ipykernel)",
   "language": "python",
   "name": "python3"
  },
  "language_info": {
   "codemirror_mode": {
    "name": "ipython",
    "version": 3
   },
   "file_extension": ".py",
   "mimetype": "text/x-python",
   "name": "python",
   "nbconvert_exporter": "python",
   "pygments_lexer": "ipython3",
   "version": "3.10.12"
  }
 },
 "nbformat": 4,
 "nbformat_minor": 5
}
