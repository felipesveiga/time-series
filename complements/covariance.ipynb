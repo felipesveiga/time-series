{
 "cells": [
  {
   "cell_type": "markdown",
   "id": "7c1c9898-d94c-4f59-a121-42f8bf9b04ae",
   "metadata": {},
   "source": [
    "<h1 style='font-size:40px'> \n",
    "    <a href='https://www.statlect.com/fundamentals-of-probability/covariance'>\n",
    "        Covariance\n",
    "    </a>\n",
    "</h1>\n",
    "<div> \n",
    "    <ul style='font-size:20px'> \n",
    "        <li> \n",
    "            A covariância é uma medida que mensura o quanto duas variáveis aleatórias variam em torno de suas médias num mesmo sentido.\n",
    "        </li>\n",
    "    </ul>\n",
    "</div>"
   ]
  },
  {
   "cell_type": "markdown",
   "id": "fde7069d-1395-4e68-b684-5f9c2011d52d",
   "metadata": {},
   "source": [
    "<figure>\n",
    "    <center style='font-size:20px;margin-top:20px'> \n",
    "            $$\\displaystyle \\begin{align*}\n",
    "                \\operatorname{Cov{[X,Y]}}&=E[(X-E[X])(Y-E[Y])]\\\\\n",
    "                &=E[XY]-E[X]E[Y]\n",
    "                \\end{align*}\n",
    "        $$\n",
    "            <figcaption style='font-size:15px'>\n",
    "                Duas definições válidas de covariância.\n",
    "            </figcaption>\n",
    "    </center>\n",
    "</figure>"
   ]
  },
  {
   "cell_type": "markdown",
   "id": "54fcc900-466f-4438-8c36-be9f93af59e0",
   "metadata": {},
   "source": [
    "<h3 style='font-size:30px;font-style:italic'> Interpretando a Covariância</h3>\n",
    "<div> \n",
    "    <ul style='font-size:20px'> \n",
    "        <li>\n",
    "            A formulação da covariância busca punir casos em que as variáveis se desviam de suas médias em sinais opostos. Já instâncias que se desviam em mesmo sentido recebem um produto positivo.\n",
    "        </li>\n",
    "        <li>\n",
    "            Por exemplo, se $x_{i}$ se desviar em $2$ unidades de $\\overline{X}$ e $y_{i}$ $-5$ unidades de $\\overline{Y}$, o produto dos desvios ficará $2\\times{-5}=-10$. \n",
    "        </li>\n",
    "        <li>\n",
    "            Portanto, covariâncias positivas indicam que as variáveis tendem a se desviar em mesmo sentido, enquanto negativas sinalizam o caso contrário.\n",
    "        </li>\n",
    "    </ul>\n",
    "</div>"
   ]
  },
  {
   "cell_type": "markdown",
   "id": "44aba7a1-a15f-4aa4-8d36-36fed091b66b",
   "metadata": {},
   "source": [
    "<h3 style='font-size:30px;font-style:italic'> Bilinearidade da Covariância</h3>\n",
    "<div> \n",
    "    <ul style='font-size:20px'> \n",
    "        <li>\n",
    "            Sejam $X_{1}$, $X_{2}$ e $Y$ três variáveis aleatórias, podemos afirmar que:\n",
    "        </li>\n",
    "    </ul>\n",
    "</div>"
   ]
  },
  {
   "cell_type": "markdown",
   "id": "1ba605ad-a6f7-49af-991b-017a62297131",
   "metadata": {},
   "source": [
    "<figure>\n",
    "    <center style='font-size:20px;margin-top:20px'> \n",
    "            $\\displaystyle \\operatorname{Cov}[a_{1}X_{1}+a_{2}X_{2},Y]=a_{1}\\operatorname{Cov}[X_{1},Y]+a_{2}\\operatorname{Cov}[X_{2},Y]$\n",
    "            <figcaption style='font-size:15px'>\n",
    "            </figcaption>\n",
    "    </center>\n",
    "</figure>"
   ]
  },
  {
   "cell_type": "markdown",
   "id": "c6897a4c-b94e-4feb-b401-5b527ede29a0",
   "metadata": {},
   "source": [
    "<h4 style='font-size:30px;font-style:italic;text-decoration:underline'> Prova</h4>\n",
    "<figure>\n",
    "    <center style='font-size:20px;margin-top:20px'> \n",
    "            $$\n",
    "            \\displaystyle \\begin{align*}\n",
    "            \\operatorname{Cov}[a_{1}X_{1}+a_{2}X_{2},Y]&=E[(a_{1}X_{1}+a_{2}X_{2}-E[a_{1}X_{1}+a_{2}X_{2}])(Y-E[Y])]\\\\\n",
    "        &=E[(a_{1}X_{1}-E[a_{1}X_{1}])(Y-E[Y])+(a_{2}X_{2}-E[a_{2}X_{2}])(Y-E[Y])]\\\\\n",
    "        &=a_{1}E[(X_{1}-E[X_{1}])(Y-E[Y])]+a_{2}E[(X_{2}-E[X_{2}])(Y-E[Y])]\\\\\n",
    "        &=a_{1}\\operatorname{Cov}[X_{1},Y]+a_{2}\\operatorname{Cov}[X_{2},Y]\\\\\n",
    "        &\\text{Q.E.D}\n",
    "            \\end{align*}\n",
    "        $$\n",
    "            <figcaption style='font-size:15px'>\n",
    "            </figcaption>\n",
    "    </center>\n",
    "</figure>"
   ]
  },
  {
   "cell_type": "markdown",
   "id": "d61b15a1-eb06-47a8-9593-c7ff617d993b",
   "metadata": {},
   "source": [
    "<h3 style='font-size:30px;font-style:italic'> Multilinearidade da Covariância</h3>\n",
    "<div> \n",
    "    <ul style='font-size:20px'> \n",
    "        <li>\n",
    "            O mesmo raciocínio pode ser usado na combinação linear de $n$ variáveis. Podemos também provar que a covariância da combinação linear de $n$ variáveis com $Y$ é igual à soma ponderada das covariâncias separadas.\n",
    "        </li>\n",
    "    </ul>\n",
    "</div>"
   ]
  },
  {
   "cell_type": "markdown",
   "id": "5639611b-c69a-4ec8-baac-5a698add99cd",
   "metadata": {},
   "source": [
    "<figure>\n",
    "    <center style='font-size:20px;margin-top:20px'> \n",
    "            $\\displaystyle \\operatorname{Cov}\\left[\\sum_{i=1}^{n}{a_{i}X_{i}},Y\\right]=\\sum_{i=1}^{n}{a_{i}\\operatorname{Cov}[X_{i},y]}$\n",
    "            <figcaption style='font-size:15px'>\n",
    "            </figcaption>\n",
    "    </center>\n",
    "</figure>"
   ]
  },
  {
   "cell_type": "markdown",
   "id": "d7dc4062-dd35-416e-b361-e3c3b1f78bae",
   "metadata": {},
   "source": [
    "<h4 style='font-size:30px;font-style:italic;text-decoration:underline'> Prova</h4>\n",
    "<figure>\n",
    "    <center style='font-size:20px;margin-top:20px'> \n",
    "            $$\n",
    "            \\displaystyle \\begin{align*}\n",
    "            \\operatorname{Cov}\\left[\\sum_{i=1}^{n}{a_{i}X_{i}},Y\\right]&=E\\left[\\left(\\sum_{i=1}^{n}{a_{i}X_{i}}-E\\left[\\sum_{i=1}^{n}{a_{i}X_{i}}\\right]\\right)(Y-E[Y])\\right]\\\\\n",
    "            &=E\\left[\\sum_{i=1}^{n}{\\left(a_{i}X_{i}-E[a_{i}X_{i}]\\right)(Y-E[Y])}\\right]\\\\\n",
    "            &=\\sum_{i=1}^{n}{a_{i}E[(X_{i}-E[X_{i}])(Y-E[Y])]}\\\\\n",
    "            &=\\sum_{i=1}^{n}{a_{i}\\operatorname{Cov}[X_{i},Y]}\\\\\n",
    "            &\\text{Q.E.D}\n",
    "            \\end{align*}\n",
    "        $$\n",
    "            <figcaption style='font-size:15px'>\n",
    "            </figcaption>\n",
    "    </center>\n",
    "</figure>"
   ]
  },
  {
   "cell_type": "markdown",
   "id": "4a52e5ce-66d0-455a-ad70-d64197f7dde8",
   "metadata": {
    "jp-MarkdownHeadingCollapsed": true
   },
   "source": [
    "<h3 style='font-size:30px;font-style:italic'> Variância da Soma de Variáveis </h3>\n",
    "<div> \n",
    "    <ul style='font-size:20px'> \n",
    "        <li>\n",
    "            Havendo $n$ variáveis aleatórias, podemos provar a seguinte propriedade da variância de sua soma:\n",
    "        </li>\n",
    "    </ul>\n",
    "</div>"
   ]
  },
  {
   "cell_type": "markdown",
   "id": "1885c360-e6bc-4a43-bb13-5fc9f4955ebd",
   "metadata": {},
   "source": [
    "<figure>\n",
    "    <center style='font-size:20px;margin-top:20px'> \n",
    "            $\\displaystyle\\operatorname{Var}\\left[\\sum_{i=1}^{n}{X_{i}}\\right]=\\sum_{i=1}^{n}{\\operatorname{Var}[X_{i}]}+2\\sum_{i=2}^{n}{\\sum_{j=1}^{i-1}\\operatorname{Cov}[X_{i},X_{j}]}$\n",
    "            <figcaption style='font-size:15px'>\n",
    "            </figcaption>\n",
    "    </center>\n",
    "</figure>"
   ]
  },
  {
   "cell_type": "markdown",
   "id": "d78cb703-508d-48dd-a623-20c93126a19c",
   "metadata": {},
   "source": [
    "<h4 style='font-size:30px;font-style:italic;text-decoration:underline'> Prova</h4>\n",
    "<figure>\n",
    "    <center style='font-size:20px;margin-top:20px'> \n",
    "            $$\\displaystyle\n",
    "            \\begin{align*}\n",
    "            \\operatorname{Var}\\left[\\sum_{i=1}^{n}{X_{i}}\\right]&=\\operatorname{Cov}\\left[\\sum_{i=1}^{n}{X_{i}},\\sum_{i=1}^{n}{X_{i}}\\right]\\\\\n",
    "        &=\\operatorname{Cov}\\left[\\sum_{i=1}^{n}{X_{i}},\\sum_{j=1}^{n}{X_{j}}\\right]\\\\\n",
    "        &=\\sum_{i=1}^{n}{\\operatorname{Cov}\\left[X_{i},\\sum_{j=1}^{n}{X_{j}}\\right]} \\text{ (Bilinearidade da Covariância)}\\\\\n",
    "        &=\\sum_{i=1}^{n}{\\sum_{j=1}^{n}{\\operatorname{Cov}\\left[X_{i},X_{j}\\right]}}\\\\\n",
    "        &=\\sum_{i=1}^{n}{\\operatorname{Cov}[X_{i},X_{i}]}+\\sum_{i=2}^{n}{\\sum_{j=1}^{i-1}{\\operatorname{Cov}[X_{i},X_{j}]}}+\\sum_{i=1}^{n}{\\sum_{j=i+1}^{n}\\operatorname{Cov}[X_{i},X_{j}]}\\\\\n",
    "        &=\\sum_{i=1}^{n}{\\operatorname{Var}}[X_{i}]+2\\sum_{i=2}^{n}{\\sum_{j=1}^{i-1}{\\operatorname{Cov}[X_{i},X_{j}]}}\\\\\n",
    "        &\\text{Q.E.D}\n",
    "            \\end{align*}\n",
    "        $$\n",
    "            <figcaption style='font-size:15px'>\n",
    "            </figcaption>\n",
    "    </center>\n",
    "</figure>"
   ]
  },
  {
   "cell_type": "markdown",
   "id": "650aae50-7bba-41b9-9de1-207d6b2189b0",
   "metadata": {},
   "source": [
    "<h4 style='font-size:30px;font-style:italic;text-decoration:underline'> Soma de Variáveis Independentes</h4>\n",
    "<div> \n",
    "    <ul style='font-size:20px'> \n",
    "        <li>\n",
    "            Na situação em que todas as variáveis são independentes, as covariâncias entre elas serão 0. Portanto, a variância de sua soma será apenas: \n",
    "        </li>\n",
    "    </ul>\n",
    "</div>"
   ]
  },
  {
   "cell_type": "markdown",
   "id": "aac34e91-36b4-4c09-a94f-2ac393cdb713",
   "metadata": {},
   "source": [
    "<figure>\n",
    "    <center style='font-size:20px;margin-top:20px'> \n",
    "            $$\\displaystyle\n",
    "            \\operatorname{Var}\\left[\\sum_{i=1}^{n}{X_{i}}\\right]=\\sum_{i=1}^{n}{\\operatorname{Var}[X_{i}]}\n",
    "        $$\n",
    "            <figcaption style='font-size:15px'>\n",
    "            </figcaption>\n",
    "    </center>\n",
    "</figure>"
   ]
  }
 ],
 "metadata": {
  "kernelspec": {
   "display_name": "Python 3 (ipykernel)",
   "language": "python",
   "name": "python3"
  },
  "language_info": {
   "codemirror_mode": {
    "name": "ipython",
    "version": 3
   },
   "file_extension": ".py",
   "mimetype": "text/x-python",
   "name": "python",
   "nbconvert_exporter": "python",
   "pygments_lexer": "ipython3",
   "version": "3.10.12"
  }
 },
 "nbformat": 4,
 "nbformat_minor": 5
}
