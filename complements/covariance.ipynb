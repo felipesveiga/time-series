{
 "cells": [
  {
   "cell_type": "markdown",
   "id": "7c1c9898-d94c-4f59-a121-42f8bf9b04ae",
   "metadata": {},
   "source": [
    "<h1 style='font-size:40px'> \n",
    "    <a href='https://www.statlect.com/fundamentals-of-probability/covariance'>\n",
    "        Covariance\n",
    "    </a>\n",
    "</h1>\n",
    "<div> \n",
    "    <ul style='font-size:20px'> \n",
    "        <li> \n",
    "            A covariância é uma medida que quantifica o quanto duas variáveis aleatórias variam em torno de suas médias num mesmo sentido.\n",
    "        </li>\n",
    "    </ul>\n",
    "</div>"
   ]
  },
  {
   "cell_type": "markdown",
   "id": "fde7069d-1395-4e68-b684-5f9c2011d52d",
   "metadata": {},
   "source": [
    "<figure>\n",
    "    <center style='font-size:20px;margin-top:20px'> \n",
    "            $$\\displaystyle \\begin{align*}\n",
    "                \\operatorname{Cov{[X,Y]}}&=E[(X-E[X])(Y-E[Y])]\\\\\n",
    "                &=E[XY]-E[X]E[Y]\n",
    "                \\end{align*}\n",
    "        $$\n",
    "            <figcaption style='font-size:15px'>\n",
    "                Duas definições válidas de covariância.\n",
    "            </figcaption>\n",
    "    </center>\n",
    "</figure>"
   ]
  },
  {
   "cell_type": "code",
   "execution_count": 2,
   "id": "32aed866-3047-4a8e-b822-7154b8ec7178",
   "metadata": {},
   "outputs": [
    {
     "name": "stdout",
     "output_type": "stream",
     "text": [
      "[master 2e9ed7e] Provar variância da soma de variáveis aleatórias, com artigo do Statlect\n",
      " 1 file changed, 13 insertions(+), 12 deletions(-)\n",
      "Enumerating objects: 5, done.\n",
      "Counting objects: 100% (5/5), done.\n",
      "Delta compression using up to 24 threads\n",
      "Compressing objects: 100% (3/3), done.\n",
      "Writing objects: 100% (3/3), 660 bytes | 660.00 KiB/s, done.\n",
      "Total 3 (delta 2), reused 0 (delta 0), pack-reused 0\n"
     ]
    },
    {
     "name": "stderr",
     "output_type": "stream",
     "text": [
      "failed to send, dropping 1 traces to intake at http://localhost:8126/v0.5/traces after 3 retries\n"
     ]
    },
    {
     "name": "stdout",
     "output_type": "stream",
     "text": [
      "remote: Resolving deltas: 100% (2/2), completed with 2 local objects.\u001b[K\n",
      "To https://github.com/felipesveiga/time-series.git\n",
      "   8131676..2e9ed7e  master -> master\n"
     ]
    }
   ],
   "source": [
    "! git add .\n",
    "! git commit -am 'Mencionar como interpretar o valor de uma covariância'\n",
    "! git push"
   ]
  },
  {
   "cell_type": "markdown",
   "id": "27673130-b9c1-4244-a954-b9068158188d",
   "metadata": {
    "editable": true,
    "slideshow": {
     "slide_type": ""
    },
    "tags": []
   },
   "source": [
    "<p style='color:red'> Iniciei anotações sobre covariância; Mencionar como interpretar o valor de uma covariância; Provar variância da soma de variáveis aleatórias, com artigo do Statlect; Aula 16 (10:50)"
   ]
  }
 ],
 "metadata": {
  "kernelspec": {
   "display_name": "Python 3 (ipykernel)",
   "language": "python",
   "name": "python3"
  },
  "language_info": {
   "codemirror_mode": {
    "name": "ipython",
    "version": 3
   },
   "file_extension": ".py",
   "mimetype": "text/x-python",
   "name": "python",
   "nbconvert_exporter": "python",
   "pygments_lexer": "ipython3",
   "version": "3.10.12"
  }
 },
 "nbformat": 4,
 "nbformat_minor": 5
}
