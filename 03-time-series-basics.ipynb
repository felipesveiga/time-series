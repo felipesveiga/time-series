{
 "cells": [
  {
   "cell_type": "markdown",
   "id": "519e8052-93b2-4b48-ba22-d0db35bdd8e7",
   "metadata": {},
   "source": [
    "<h1 style='font-size:40px'> Time Series Basics</h1>\n",
    "<div> \n",
    "    <ul style='font-size:20px'> \n",
    "        <li> \n",
    "            Seção introdutória em que aprendemos os principais conceitos e técnicas de análises de séries temporais.\n",
    "        </li>\n",
    "    </ul>\n",
    " </div>"
   ]
  },
  {
   "cell_type": "markdown",
   "id": "3cf647e1-2a93-44f9-a7d7-9b4fe4b0218b",
   "metadata": {},
   "source": [
    "<h2 style='font-size:30px'> \n",
    "    What is a Time Series?\n",
    "</h2>\n",
    "<div> \n",
    "    <ul style='font-size:20px'> \n",
    "        <li> \n",
    "            Nesse curso, lidaremos com séries de dados distribuídas em intervalos de tempo discretos.\n",
    "        </li>\n",
    "        <li>\n",
    "            Também lidaremos com múltiplas séries contidas no mesmo intervalo, caso conhecido como \"Vector Time Series\".\n",
    "        </li>\n",
    "    </ul>\n",
    " </div>"
   ]
  },
  {
   "cell_type": "markdown",
   "id": "ae259754-c5d6-4316-b67b-703abcf29c05",
   "metadata": {},
   "source": [
    "<figure>\n",
    "    <center style='font-size:20px;margin-top:20px'> \n",
    "           <img src='img/03_vector_series.png'>\n",
    "        <figcaption style='font-size:15px'>\n",
    "            Exemplo de uma vector time series.\n",
    "        </figcaption>\n",
    "    </center>\n",
    "</figure>"
   ]
  },
  {
   "cell_type": "markdown",
   "id": "455f8fc7-dd14-4e4c-8540-e5faaababb6a",
   "metadata": {},
   "source": [
    "<h2 style='font-size:30px'> \n",
    "    Why Do We Care About Shapes?\n",
    "</h2>\n",
    "<div> \n",
    "    <ul style='font-size:20px'> \n",
    "        <li> \n",
    "            Os frameworks que vamos utilizar nesse curso esperam que cada série temporal seja armazenada como um vetor-coluna. Nesse sentido, caso trabalhemos com múltiplas séries contidas no mesmo período, cada timestamp será um vetor-linha, e cada série um vetor-coluna.\n",
    "        </li>\n",
    "    </ul>\n",
    " </div>"
   ]
  },
  {
   "cell_type": "markdown",
   "id": "e271ac9a-b7c0-429d-96a9-b3c8b9f64d52",
   "metadata": {},
   "source": [
    "<h3 style='font-size:30px;font-style:italic'> Séries 3-D</h3>\n",
    "<div> \n",
    "    <ul style='font-size:20px'> \n",
    "        <li> \n",
    "            Existe a possibilidade de trabalharmos com séries contidas em matrizes tridimensionais. Por exemplo, poderíamos querer treinar um previsor de frequência cardíaca e nível de oxigênio de uma pessoa com base em 100 amostras de 500 timestamps.\n",
    "        </li>\n",
    "        <li>\n",
    "            Nesse caso, os frameworks demandariam que nossa matriz ficasse da forma $100\\times{500}\\times{2}$.\n",
    "        </li>\n",
    "    </ul>\n",
    "</div>"
   ]
  },
  {
   "cell_type": "markdown",
   "id": "f0707e3a-9125-4cb5-941c-fcc98720bfb7",
   "metadata": {},
   "source": [
    "<h2 style='font-size:30px'> \n",
    "    Types of Tasks\n",
    "    \n",
    "</h2>\n",
    "<div> \n",
    "    <ul style='font-size:20px'> \n",
    "        <li> \n",
    "            Aula em que mencionamos as principais atividades que envolvem análises de séries temporais.\n",
    "        </li>\n",
    "    </ul>\n",
    " </div>"
   ]
  },
  {
   "cell_type": "markdown",
   "id": "fbc05ed5-bfb8-49e9-b1a2-51640a5c18ef",
   "metadata": {},
   "source": [
    "<h3 style='font-size:30px;font-style:italic'> One-Step Forecast</h3>\n",
    "<div> \n",
    "    <ul style='font-size:20px'> \n",
    "        <li> \n",
    "            Geração de um modelo que prevê o valor da série um time-step para frente. Modalidade suportada por modelos como o ARIMA.\n",
    "        </li>\n",
    "    </ul>\n",
    "</div>"
   ]
  },
  {
   "cell_type": "markdown",
   "id": "908896d9-4ab4-46d0-a926-1bcd1cf315ea",
   "metadata": {},
   "source": [
    "<h3 style='font-size:30px;font-style:italic'> Multi-Step Forecast</h3>\n",
    "<div> \n",
    "    <ul style='font-size:20px'> \n",
    "        <li> \n",
    "            Previsão da série para múltiplos time-steps para frente. Pode ser implementada usando um modelo one-step alimentado por suas próprias previsões, ou algoritmos especializados para essa atividade.\n",
    "        </li>\n",
    "    </ul>\n",
    "</div>"
   ]
  },
  {
   "cell_type": "markdown",
   "id": "cdb2db15-03f2-4471-aefe-f70054a1184f",
   "metadata": {},
   "source": [
    "<h3 style='font-size:30px;font-style:italic'> Classification</h3>\n",
    "<div> \n",
    "    <ul style='font-size:20px'> \n",
    "        <li> \n",
    "            Realização de uma classificação com base nos padrões de séries temporais. Pode envolver cases de detecção de doenças cardíacas, ou ausência de capacity em infras.\n",
    "        </li>\n",
    "    </ul>\n",
    "</div>"
   ]
  },
  {
   "cell_type": "markdown",
   "id": "6744f2ef-044a-49a5-9dcd-297c3b4c4859",
   "metadata": {},
   "source": [
    "<h2 style='font-size:30px'> \n",
    "    Power, Log, and Box-Cox Transformations\n",
    "    \n",
    "</h2>\n",
    "<div> \n",
    "    <ul style='font-size:20px'> \n",
    "        <li> \n",
    "            Em projetos de TSA, podemos aplicar transformações sobre a nossa série visando facilitar o aprendizado de nossos modelos. \n",
    "        </li>\n",
    "    </ul>\n",
    " </div>"
   ]
  },
  {
   "cell_type": "markdown",
   "id": "8f986b4c-988f-4789-8863-90799dfc2675",
   "metadata": {},
   "source": [
    "<h3 style='font-size:30px;font-style:italic'> Power Transform</h3>\n",
    "<div> \n",
    "    <ul style='font-size:20px'> \n",
    "        <li> \n",
    "            Consiste em elevar os componentes da série a uma potência $\\alpha$. Fazemos isso, porque grande parte dos modelos pressupõe séries de crescimento linear com o passar do tempo.\n",
    "        </li>\n",
    "    </ul>\n",
    "</div>"
   ]
  },
  {
   "attachments": {},
   "cell_type": "markdown",
   "id": "83c07125-0b7a-4139-b267-7e6deda76096",
   "metadata": {},
   "source": [
    " <center style='font-size:20px;margin-top:20px'> \n",
    "        <figure>\n",
    "            $y'(t)=y(t)^{\\alpha}$\n",
    "        <figcaption></figcaption>\n",
    "        </figure>\n",
    "    </center>"
   ]
  },
  {
   "cell_type": "code",
   "execution_count": 18,
   "id": "a5b201f4-f761-4071-a027-d2c38a133a76",
   "metadata": {},
   "outputs": [
    {
     "data": {
      "text/plain": [
       "[<matplotlib.lines.Line2D at 0x7cbed1cbed10>]"
      ]
     },
     "execution_count": 18,
     "metadata": {},
     "output_type": "execute_result"
    },
    {
     "data": {
      "image/png": "[encoded data removed]",
      "text/plain": [
       "<Figure size 640x480 with 1 Axes>"
      ]
     },
     "metadata": {},
     "output_type": "display_data"
    }
   ],
   "source": [
    "# Transformando uma série quadrática em linear.\n",
    "import numpy as np\n",
    "import matplotlib.pyplot as plt\n",
    "\n",
    "x = np.linspace(0,10,1001)\n",
    "y = x**2\n",
    "y_ = y ** (1/2)\n",
    "\n",
    "plt.plot(x,y)\n",
    "plt.plot(x,y_)"
   ]
  },
  {
   "cell_type": "markdown",
   "id": "8ab1280b-6da8-434a-a00e-8c89729a132b",
   "metadata": {},
   "source": [
    "<h3 style='font-size:30px;font-style:italic'>  Log Transform</h3>\n",
    "<div> \n",
    "    <ul style='font-size:20px'> \n",
    "        <li>\n",
    "            Consiste em tirar o log natural dos componentes. Assume que a distribuição seja log-normal.\n",
    "        </li>\n",
    "        <li>\n",
    "            Muito utilizada com séries financeiras. Ela é aplicada no modelo Black-Scholes, por exemplo.\n",
    "        </li>\n",
    "    </ul>\n",
    "</div>"
   ]
  },
  {
   "attachments": {},
   "cell_type": "markdown",
   "id": "150e93f0-7dc4-4dc9-8ee5-78d366cf3586",
   "metadata": {},
   "source": [
    " <center style='font-size:20px;margin-top:20px'> \n",
    "        <figure>\n",
    "            $y'(t)=\\log{[y(t)+1]}$\n",
    "        <figcaption style='font-size:15px'>\n",
    "            Podemos somar 1 ao valor da série para permitirmos números negativos.\n",
    "        </figcaption>\n",
    "        </figure>\n",
    "    </center>"
   ]
  },
  {
   "cell_type": "markdown",
   "id": "d8a196ad-f355-48d8-853f-677adcc9f499",
   "metadata": {},
   "source": [
    "<h3 style='font-size:30px;font-style:italic'>  Box-Cox Transform</h3>\n",
    "<div> \n",
    "    <ul style='font-size:20px'> \n",
    "        <li>\n",
    "            Transformação que mistura a exponencial com a logaritmica. \n",
    "        </li>\n",
    "        <li>\n",
    "            Sua intenção é conseguir aproximar a distribuição da série numa Normal.\n",
    "        </li>\n",
    "    </ul>\n",
    "</div>"
   ]
  },
  {
   "attachments": {},
   "cell_type": "markdown",
   "id": "5aca6758-4a8f-414b-be1e-2ce949cb16ef",
   "metadata": {},
   "source": [
    " <center style='font-size:20px;margin-top:20px'> \n",
    "        <figure>\n",
    "            $y'(t)=\\frac{y(t)^{\\lambda}-1}{\\lambda}$\n",
    "        <figcaption style='font-size:15px'>\n",
    "        </figcaption>\n",
    "        </figure>\n",
    "    </center>"
   ]
  },
  {
   "cell_type": "markdown",
   "id": "ac70fe4e-7019-4153-b37d-acb3e680fc64",
   "metadata": {},
   "source": [
    "<h4 style='font-size:30px;font-style:italic;text-decoration:underline'> $\\lambda=0$</h4>\n",
    "<div> \n",
    "    <ul style='font-size:20px'> \n",
    "        <li>\n",
    "            O valor da Box-Cox será $\\ln{y(t)}$, quando $\\lambda=0$. Segue a prova abaixo:\n",
    "        </li>\n",
    "        <li>\n",
    "            Seja $f(\\lambda)=x^{\\lambda}$, podemos entender $\\displaystyle\\lim_{\\lambda\\to{0}}{\\frac{x^{\\lambda}-1}{\\lambda}}$ como $f'(0)$.\n",
    "        </li>\n",
    "    </ul>\n",
    "</div>"
   ]
  },
  {
   "attachments": {},
   "cell_type": "markdown",
   "id": "3b59b36e-a166-4a3a-b9ae-224f81de20d6",
   "metadata": {},
   "source": [
    " <center style='font-size:20px;margin-top:20px'> \n",
    "        <figure>\n",
    "            $$\\displaystyle \\begin{align*}\n",
    "                f'(0)&=\\lim_{\\lambda\\to 0}\\frac{f(\\lambda)-f(0)}{\\lambda}\\\\\n",
    "                     &=\\lim_{\\lambda\\to 0}\\frac{f(\\lambda)-1}{\\lambda} \\text{    [f(0)=1]}\n",
    "            \\end{align*}$$\n",
    "        <figcaption style='font-size:15px'>\n",
    "        </figcaption>\n",
    "        </figure>\n",
    "    </center>"
   ]
  },
  {
   "cell_type": "markdown",
   "id": "222679bb-b6a2-4123-8f0d-158e195818dd",
   "metadata": {},
   "source": [
    "<div> \n",
    "    <ul style='font-size:20px'> \n",
    "        <li>\n",
    "            Considerando que podemos escrever $f(\\lambda)=x^{\\lambda}=e^{\\lambda\\ln{x}}$, a função de sua derivada pode ser escrita como $f'(\\lambda)=e^{\\lambda\\ln{x}}\\ln{x}=\\ln{x}\\cdot x^{\\lambda}$.\n",
    "        </li>\n",
    "        <li>\n",
    "            Com isso conseguimos definir $f'(0)=\\ln{x}\\cdot x^{0}=\\ln{x}$.\n",
    "        </li>\n",
    "    </ul>\n",
    "</div>"
   ]
  },
  {
   "attachments": {},
   "cell_type": "markdown",
   "id": "1dd755b9-5cf1-4646-a005-f67c98e0fd8b",
   "metadata": {},
   "source": [
    " <center style='font-size:20px;margin-top:20px'> \n",
    "        <figure>\n",
    "            $\\displaystyle \\therefore \\lim_{\\lambda \\to 0}\\frac{x^{\\lambda}-1}{\\lambda}=\\ln{x}$\n",
    "        <figcaption style='font-size:15px'>\n",
    "        </figcaption>\n",
    "        </figure>\n",
    "    </center>"
   ]
  },
  {
   "cell_type": "markdown",
   "id": "68867dbd-3fe9-415c-b9c6-471c6869be21",
   "metadata": {},
   "source": [
    "<h4 style='font-size:30px;font-style:italic;text-decoration:underline'> $\\lambda$ Ideal</h4>\n",
    "<div> \n",
    "    <ul style='font-size:20px'> \n",
    "        <li>\n",
    "            Diversos estudos foram conduzidos, a fim de montar uma metodologia que encontrasse o melhor valor de $\\lambda$ para a transformação.\n",
    "        </li>\n",
    "        <li>\n",
    "            Como o objetivo da Box-Cox é normalizar a distribuição, as publicações tendem a usar testes estatísticos como Shapiro-Wilk em suas abordagens.\n",
    "        </li>\n",
    "    </ul>\n",
    "</div>"
   ]
  },
  {
   "cell_type": "markdown",
   "id": "8aac440b-fb6a-4b85-8a05-459f74227b08",
   "metadata": {},
   "source": [
    "<h2 style='font-size:30px'> \n",
    "    Forecasting Metrics\n",
    "    \n",
    "</h2>\n",
    "<div> \n",
    "    <ul style='font-size:20px'> \n",
    "        <li> \n",
    "            Aula em que são apresentadas as principais métricas do campo de TSA.\n",
    "        </li>\n",
    "        <li>\n",
    "            Por se tratar de cases de regressão, todas as métricas clássicas, como RMSE e MAE, são utilizadas. Porém, algumas a mais merecem menção.\n",
    "        </li>\n",
    "    </ul>\n",
    " </div>"
   ]
  },
  {
   "cell_type": "markdown",
   "id": "b012a262-a2c8-453c-b2f2-3cf050efd3f0",
   "metadata": {},
   "source": [
    "<h4 style='font-size:30px;font-style:italic;text-decoration:undejrline'> \n",
    "    <a href='https://builtin.com/data-science/adjusted-r-squared'>$R^{2}$</a>    \n",
    "</h4>\n",
    "<div> \n",
    "    <ul style='font-size:20px'> \n",
    "        <li>\n",
    "            A $R^{2}$ é uma métrica com o foque em expor o grau de variância da variável target que consegue ser explicada pelo modelo sob avaliação.\n",
    "        </li>\n",
    "    </ul>\n",
    "</div>"
   ]
  },
  {
   "attachments": {},
   "cell_type": "markdown",
   "id": "2546fae8-c4aa-4dcf-b8c5-5132b3cd8f63",
   "metadata": {},
   "source": [
    " <center style='font-size:20px;margin-top:20px'> \n",
    "        <figure>\n",
    "            $\\displaystyle R^{2}=\\frac{SS_{\\text{explained}}}{SS_{\\text{total}}}=\\frac{\\sum_{i=1}^{n}(\\hat{y}_{i}-\\overline{y})}{\\sum_{i=1}^{n}(y_{i}-\\overline{y})}$\n",
    "        <figcaption style='font-size:15px'>\n",
    "        </figcaption>\n",
    "        </figure>\n",
    "    </center>"
   ]
  },
  {
   "cell_type": "markdown",
   "id": "52643fa8-cafa-4b3c-a770-457974ac7832",
   "metadata": {},
   "source": [
    "<h4 style='font-size:30px;font-style:italic;text-decoration:undejrline'> \n",
    "    Mean Absolute Percentage Error (MAPE)\n",
    "</h4>\n",
    "<div> \n",
    "    <ul style='font-size:20px'> \n",
    "        <li>\n",
    "            A MAPE corresponde à diferença percentual entre a target e a previsão do modelo. Ela foi criada com a intenção de ser agnóstica à escala da variável dependente. \n",
    "        </li>\n",
    "    </ul>\n",
    "</div>"
   ]
  },
  {
   "attachments": {},
   "cell_type": "markdown",
   "id": "8278cddc-ec33-4ae0-a29c-1782a8549541",
   "metadata": {},
   "source": [
    " <center style='font-size:20px;margin-top:20px'> \n",
    "        <figure>\n",
    "            $\\displaystyle \\operatorname{MAPE}=\\frac{1}{N}{\\sum_{i=1}^{N}\\left|\\frac{y_{i}-\\hat{y}_{i}}{y_{i}}\\right|}$\n",
    "        <figcaption style='font-size:15px'>\n",
    "        </figcaption>\n",
    "        </figure>\n",
    "    </center>"
   ]
  },
  {
   "cell_type": "markdown",
   "id": "09ad6855-1f5c-4fe6-9f1c-d8ea82eaec6f",
   "metadata": {},
   "source": [
    "<h4 style='font-size:30px;font-style:italic;text-decoration:undejrline'> \n",
    "   Symmetric Mean Absolute Percentage Error (sMAPE)\n",
    "</h4>\n",
    "<div> \n",
    "    <ul style='font-size:20px'> \n",
    "        <li>\n",
    "            Alguns criticam a MAPE por não ser uma métrica simétrica. Por exemplo, o MAPE de $y_{i}=10$ e $\\hat{y}_{i}=11$ não é o mesmo do de $y_{i}=11$ e $\\hat{y}_{i}=10$\n",
    "        </li>\n",
    "        <li>\n",
    "            Tendo isso em vista, sMAPE surge como uma medida agnóstica à ordem dos argumentos. \n",
    "        </li>\n",
    "    </ul>\n",
    "</div>"
   ]
  },
  {
   "attachments": {},
   "cell_type": "markdown",
   "id": "4ceb8bb8-50fc-496b-b2bd-c768cb0a33d3",
   "metadata": {},
   "source": [
    " <center style='font-size:20px;margin-top:20px'> \n",
    "        <figure>\n",
    "            $\\displaystyle \\operatorname{sMAPE}=\\frac{1}{N}{\\sum_{i=1}^{N}\\frac{\\left|y_{i}-\\hat{y}_{i}\\right|}{(|y_{i}|+|\\hat{y}_{i}|)/2}}$\n",
    "        <figcaption style='font-size:15px'>\n",
    "        </figcaption>\n",
    "        </figure>\n",
    "    </center>"
   ]
  },
  {
   "cell_type": "markdown",
   "id": "df6b534e-a98b-464f-ad1a-86f67f287031",
   "metadata": {},
   "source": [
    "<h2 style='font-size:30px'> \n",
    "    Random Walks and the Random Walk Hypothesis\n",
    "</h2>\n",
    "<div> \n",
    "    <ul style='font-size:20px'> \n",
    "        <li> \n",
    "            A Random Walk Hypothesis é uma teoria do mercado financeiro sobre valores de ações. Ela afirma que mudanças nos preços de ativos não podem ser previstas com base em comportamentos passados. \n",
    "        </li>\n",
    "        <li>\n",
    "            Para a teoria, as variações de preço nada mais são do que variáveis aleatórias independentes e igualmente distribuídas.\n",
    "        </li>\n",
    "        <li>\n",
    "            Usualmente, assumimos que as variações de preço seguem uma Distribuição Normal. Isso se deve ao fato de que uma amostra das médias de preço seguirem essa distribuição, condizendo ao CLT. \n",
    "        </li>\n",
    "    </ul>\n",
    " </div>"
   ]
  },
  {
   "cell_type": "code",
   "execution_count": 33,
   "id": "5b9936d2-b4bb-4503-b663-f389c62a1230",
   "metadata": {},
   "outputs": [
    {
     "name": "stdout",
     "output_type": "stream",
     "text": [
      "[master a964d3a] Continuar de \"The second hypothesis of the random walk\"\n",
      " 1 file changed, 12 insertions(+), 12 deletions(-)\n",
      "Enumerating objects: 5, done.\n",
      "Counting objects: 100% (5/5), done.\n",
      "Delta compression using up to 24 threads\n",
      "Compressing objects: 100% (3/3), done.\n",
      "Writing objects: 100% (3/3), 502 bytes | 502.00 KiB/s, done.\n",
      "Total 3 (delta 2), reused 0 (delta 0), pack-reused 0\n"
     ]
    },
    {
     "name": "stderr",
     "output_type": "stream",
     "text": [
      "failed to send, dropping 1 traces to intake at unix:///var/run/datadog/apm.socket/v0.5/traces after 3 retries\n"
     ]
    },
    {
     "name": "stdout",
     "output_type": "stream",
     "text": [
      "remote: Resolving deltas: 100% (2/2), completed with 2 local objects.\u001b[K\n",
      "To https://github.com/felipesveiga/time-series.git\n",
      "   39f89ab..a964d3a  master -> master\n"
     ]
    }
   ],
   "source": [
    "! git add .\n",
    "! git commit -am 'Continuar de \"However, empirical studies could not provide adequate\"'\n",
    "! git push"
   ]
  },
  {
   "cell_type": "markdown",
   "id": "b26a2130-b644-416c-b3e7-1a67f9894eaa",
   "metadata": {
    "editable": true,
    "slideshow": {
     "slide_type": ""
    },
    "tags": []
   },
   "source": [
    "<p style='color:red'> Iniciei artigo sobre a Random Walk Hypothesis; Continuar de \"The second hypothesis of the random walk\";"
   ]
  }
 ],
 "metadata": {
  "kernelspec": {
   "display_name": "Python 3 (ipykernel)",
   "language": "python",
   "name": "python3"
  },
  "language_info": {
   "codemirror_mode": {
    "name": "ipython",
    "version": 3
   },
   "file_extension": ".py",
   "mimetype": "text/x-python",
   "name": "python",
   "nbconvert_exporter": "python",
   "pygments_lexer": "ipython3",
   "version": "3.10.12"
  }
 },
 "nbformat": 4,
 "nbformat_minor": 5
}
