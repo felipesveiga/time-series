{
 "cells": [
  {
   "cell_type": "markdown",
   "id": "519e8052-93b2-4b48-ba22-d0db35bdd8e7",
   "metadata": {},
   "source": [
    "<h1 style='font-size:40px'> Time Series Basics</h1>\n",
    "<div> \n",
    "    <ul style='font-size:20px'> \n",
    "        <li> \n",
    "            Seção introdutória em que aprendemos os principais conceitos e técnicas de análises de séries temporais.\n",
    "        </li>\n",
    "    </ul>\n",
    " </div>"
   ]
  },
  {
   "cell_type": "markdown",
   "id": "3cf647e1-2a93-44f9-a7d7-9b4fe4b0218b",
   "metadata": {},
   "source": [
    "<h2 style='font-size:30px'> \n",
    "    What is a Time Series?\n",
    "</h2>\n",
    "<div> \n",
    "    <ul style='font-size:20px'> \n",
    "        <li> \n",
    "            Nesse curso, lidaremos com séries de dados distribuídas em intervalos de tempo discretos.\n",
    "        </li>\n",
    "        <li>\n",
    "            Também lidaremos com múltiplas séries contidas no mesmo intervalo, caso conhecido como \"Vector Time Series\".\n",
    "        </li>\n",
    "    </ul>\n",
    " </div>"
   ]
  },
  {
   "cell_type": "markdown",
   "id": "ae259754-c5d6-4316-b67b-703abcf29c05",
   "metadata": {},
   "source": [
    "<figure>\n",
    "    <center style='font-size:20px;margin-top:20px'> \n",
    "           <img src='img/03_vector_series.png'>\n",
    "        <figcaption style='font-size:15px'>\n",
    "            Exemplo de uma vector time series.\n",
    "        </figcaption>\n",
    "    </center>\n",
    "</figure>"
   ]
  },
  {
   "cell_type": "code",
   "execution_count": 2,
   "id": "5b9936d2-b4bb-4503-b663-f389c62a1230",
   "metadata": {},
   "outputs": [
    {
     "name": "stdout",
     "output_type": "stream",
     "text": [
      "[master 8e5c2d1] Aula 7\n",
      " 1 file changed, 12 insertions(+), 12 deletions(-)\n",
      "Enumerating objects: 5, done.\n",
      "Counting objects: 100% (5/5), done.\n",
      "Delta compression using up to 24 threads\n",
      "Compressing objects: 100% (3/3), done.\n",
      "Writing objects: 100% (3/3), 503 bytes | 503.00 KiB/s, done.\n",
      "Total 3 (delta 2), reused 0 (delta 0), pack-reused 0\n",
      "remote: Resolving deltas: 100% (2/2), completed with 2 local objects.\u001b[K\n",
      "To https://github.com/felipesveiga/time-series.git\n",
      "   9f3e1da..8e5c2d1  master -> master\n"
     ]
    }
   ],
   "source": [
    "! git add .\n",
    "! git commit -am 'Aula 9'\n",
    "! git push"
   ]
  },
  {
   "cell_type": "markdown",
   "id": "b26a2130-b644-416c-b3e7-1a67f9894eaa",
   "metadata": {
    "editable": true,
    "slideshow": {
     "slide_type": ""
    },
    "tags": []
   },
   "source": [
    "<p style='color:red'> Vi Aula 7 a 8; Aula 9"
   ]
  }
 ],
 "metadata": {
  "kernelspec": {
   "display_name": "Python 3 (ipykernel)",
   "language": "python",
   "name": "python3"
  },
  "language_info": {
   "codemirror_mode": {
    "name": "ipython",
    "version": 3
   },
   "file_extension": ".py",
   "mimetype": "text/x-python",
   "name": "python",
   "nbconvert_exporter": "python",
   "pygments_lexer": "ipython3",
   "version": "3.10.12"
  }
 },
 "nbformat": 4,
 "nbformat_minor": 5
}
