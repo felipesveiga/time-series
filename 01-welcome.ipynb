{
 "cells": [
  {
   "cell_type": "markdown",
   "id": "c29dfd63-b1e0-44e3-bdbc-4c8ae9e5e8aa",
   "metadata": {},
   "source": [
    "<h1 style='font-size:40px'> Welcome</h1>\n",
    "<div> \n",
    "    <ul style='font-size:20px'> \n",
    "        <li> \n",
    "            Curso dividido em 3 partes.\n",
    "            <ol> \n",
    "                <li>\n",
    "                    Classic Methods (ARIMA, Exponential Smoothing)\n",
    "                </li>\n",
    "                <li>\n",
    "                    ML and DL\n",
    "                </li>\n",
    "                <li>\n",
    "                    VIP (Prophet, GARCH)\n",
    "                </li>\n",
    "            </ol>\n",
    "        </li>\n",
    "    </ul>\n",
    " </div>"
   ]
  }
 ],
 "metadata": {
  "kernelspec": {
   "display_name": "Python 3 (ipykernel)",
   "language": "python",
   "name": "python3"
  },
  "language_info": {
   "codemirror_mode": {
    "name": "ipython",
    "version": 3
   },
   "file_extension": ".py",
   "mimetype": "text/x-python",
   "name": "python",
   "nbconvert_exporter": "python",
   "pygments_lexer": "ipython3",
   "version": "3.10.12"
  }
 },
 "nbformat": 4,
 "nbformat_minor": 5
}
